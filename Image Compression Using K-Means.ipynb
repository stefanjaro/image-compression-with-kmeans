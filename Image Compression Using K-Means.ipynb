{
 "cells": [
  {
   "cell_type": "code",
   "execution_count": null,
   "metadata": {},
   "outputs": [],
   "source": [
    "# image compression using k-means clustering\n",
    "# inspired by Andrew Ng's Machine Learning Course assignment on k-means clustering"
   ]
  },
  {
   "cell_type": "code",
   "execution_count": null,
   "metadata": {},
   "outputs": [],
   "source": [
    "# import necessary libraries\n",
    "import pandas as pd\n",
    "import numpy as np\n",
    "import matplotlib.pyplot as plt\n",
    "from PIL import Image\n",
    "from sklearn.cluster import KMeans"
   ]
  },
  {
   "cell_type": "code",
   "execution_count": null,
   "metadata": {},
   "outputs": [],
   "source": [
    "# import image\n",
    "im = Image.open(\"bridge.jpeg\")\n",
    "# turn image into RGB\n",
    "rgb_im = im.convert(\"RGB\")\n",
    "# display image\n",
    "rgb_im"
   ]
  },
  {
   "cell_type": "code",
   "execution_count": null,
   "metadata": {},
   "outputs": [],
   "source": [
    "# get each pixel's RGB value\n",
    "width = rgb_im.size[0]\n",
    "height = rgb_im.size[1]\n",
    "\n",
    "# list to store our data\n",
    "pixel_data = []\n",
    "\n",
    "# iterate through each pixel getting its RGB values\n",
    "i = 0\n",
    "while i < width:\n",
    "    j = 0\n",
    "    while j < height:\n",
    "        pixel_data.append(rgb_im.getpixel((i, j))) # get rgb value of pixel and append to list\n",
    "        j += 1 # go to the next row\n",
    "    i += 1 # go to the next column\n",
    "    \n",
    "# turn pixel_data into a dataframe (for displaying) and an array (for the clustering algorithm)\n",
    "pixel_np = np.array(pixel_data)\n",
    "pixel_df = pd.DataFrame(pixel_data, columns=[\"r\", \"g\", \"b\"])"
   ]
  },
  {
   "cell_type": "code",
   "execution_count": null,
   "metadata": {},
   "outputs": [],
   "source": [
    "# display pixel data\n",
    "pixel_df.head(5)"
   ]
  },
  {
   "cell_type": "code",
   "execution_count": null,
   "metadata": {},
   "outputs": [
    {
     "name": "stdout",
     "output_type": "stream",
     "text": [
      "Initialization complete\n",
      "start iteration\n",
      "done sorting\n",
      "end inner loop\n",
      "Iteration 0, inertia 8481133.170089886\n",
      "start iteration\n",
      "done sorting\n",
      "end inner loop\n",
      "Iteration 1, inertia 8176708.250038368\n",
      "start iteration\n",
      "done sorting\n",
      "end inner loop\n",
      "Iteration 2, inertia 8057722.484148624\n",
      "start iteration\n",
      "done sorting\n",
      "end inner loop\n",
      "Iteration 3, inertia 7981963.564074286\n",
      "start iteration\n",
      "done sorting\n",
      "end inner loop\n",
      "Iteration 4, inertia 7926863.983363379\n",
      "start iteration\n",
      "done sorting\n",
      "end inner loop\n",
      "Iteration 5, inertia 7883889.587120942\n",
      "start iteration\n",
      "done sorting\n",
      "end inner loop\n",
      "Iteration 6, inertia 7850853.114869116\n",
      "start iteration\n",
      "done sorting\n",
      "end inner loop\n",
      "Iteration 7, inertia 7824375.542411127\n",
      "start iteration\n",
      "done sorting\n",
      "end inner loop\n",
      "Iteration 8, inertia 7800720.492289476\n",
      "start iteration\n",
      "done sorting\n",
      "end inner loop\n",
      "Iteration 9, inertia 7781844.899225285\n",
      "start iteration\n",
      "done sorting\n",
      "end inner loop\n",
      "Iteration 10, inertia 7765956.562468872\n",
      "start iteration\n",
      "done sorting\n",
      "end inner loop\n",
      "Iteration 11, inertia 7751940.840488669\n",
      "start iteration\n",
      "done sorting\n",
      "end inner loop\n",
      "Iteration 12, inertia 7739858.939978644\n",
      "start iteration\n",
      "done sorting\n",
      "end inner loop\n",
      "Iteration 13, inertia 7730464.791085255\n",
      "start iteration\n",
      "done sorting\n",
      "end inner loop\n",
      "Iteration 14, inertia 7722591.622708059\n",
      "start iteration\n",
      "done sorting\n"
     ]
    }
   ],
   "source": [
    "# run k-means clustering on the pixel data\n",
    "num_of_centroids = 256 # an 8-bit image is represented by 2^8 colours\n",
    "num_of_runs = 10 # number of times to run the k-means algorithm before determining the best centroids\n",
    "max_iterations = 300 # number of iterations before k-means comes to an end for a single run\n",
    "verbosity = 0 # show what's going on when the algorithm is running\n",
    "\n",
    "# initiate a kmeans object\n",
    "compressor = KMeans(n_clusters=num_of_centroids, n_init=num_of_runs, max_iter=max_iterations, verbose=verbosity)\n",
    "# run k-means clustering\n",
    "compressor.fit(pixel_np)"
   ]
  },
  {
   "cell_type": "code",
   "execution_count": null,
   "metadata": {},
   "outputs": [],
   "source": []
  }
 ],
 "metadata": {
  "kernelspec": {
   "display_name": "Python 3",
   "language": "python",
   "name": "python3"
  },
  "language_info": {
   "codemirror_mode": {
    "name": "ipython",
    "version": 3
   },
   "file_extension": ".py",
   "mimetype": "text/x-python",
   "name": "python",
   "nbconvert_exporter": "python",
   "pygments_lexer": "ipython3",
   "version": "3.6.5"
  }
 },
 "nbformat": 4,
 "nbformat_minor": 2
}
